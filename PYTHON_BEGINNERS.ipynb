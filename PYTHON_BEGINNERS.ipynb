{
  "nbformat": 4,
  "nbformat_minor": 0,
  "metadata": {
    "colab": {
      "provenance": [],
      "authorship_tag": "ABX9TyNsKaXifp9LLfGcWGMEcJPQ",
      "include_colab_link": true
    },
    "kernelspec": {
      "name": "python3",
      "display_name": "Python 3"
    },
    "language_info": {
      "name": "python"
    }
  },
  "cells": [
    {
      "cell_type": "markdown",
      "metadata": {
        "id": "view-in-github",
        "colab_type": "text"
      },
      "source": [
        "<a href=\"https://colab.research.google.com/github/ayushi7503/DATA-SCIENCE/blob/main/PYTHON_BEGINNERS.ipynb\" target=\"_parent\"><img src=\"https://colab.research.google.com/assets/colab-badge.svg\" alt=\"Open In Colab\"/></a>"
      ]
    },
    {
      "cell_type": "code",
      "execution_count": 1,
      "metadata": {
        "id": "Z7crh6dYU-bl"
      },
      "outputs": [],
      "source": [
        "#Tools to use - python IDLE/ Pycharm / colab / jupyter notebook\n",
        "#extension of file saved - .py\n",
        "\n",
        "#python\n",
        "#python is interpreted high level language\n",
        "#case sensitive language\n",
        "\n",
        "#identifiers - used to identify the variables / functions etc.\n",
        "#rules of creating identifiers are  - start with zero or more letters, _ ,& digits\n",
        "\n",
        "#keywords - all keywords are in lower case (inbuilt) - 33 keywords in python (del, for etc)"
      ]
    },
    {
      "cell_type": "code",
      "source": [
        "# Python Data Types - int / float / complex / bool / string\n",
        "\n",
        "# Python Data Structures - list / tuple / set / dict "
      ],
      "metadata": {
        "id": "Ec-mghl8WZxQ"
      },
      "execution_count": 2,
      "outputs": []
    },
    {
      "cell_type": "code",
      "source": [
        "#function - gives an output\n",
        "from platform import python_version\n",
        "python_version()"
      ],
      "metadata": {
        "colab": {
          "base_uri": "https://localhost:8080/",
          "height": 36
        },
        "id": "qOrwC9l4Wvjx",
        "outputId": "0f43b398-d088-42f6-f083-f5170f5d4af2"
      },
      "execution_count": 5,
      "outputs": [
        {
          "output_type": "execute_result",
          "data": {
            "text/plain": [
              "'3.9.16'"
            ],
            "application/vnd.google.colaboratory.intrinsic+json": {
              "type": "string"
            }
          },
          "metadata": {},
          "execution_count": 5
        }
      ]
    },
    {
      "cell_type": "code",
      "source": [
        "#First python program - hello world !\n",
        "\n",
        "print(\"hello world\")\n",
        "print(\"good morning\")"
      ],
      "metadata": {
        "colab": {
          "base_uri": "https://localhost:8080/"
        },
        "id": "XaDqT_HthSuh",
        "outputId": "f89653de-407b-47f9-9b25-2d90a0fc826f"
      },
      "execution_count": 6,
      "outputs": [
        {
          "output_type": "stream",
          "name": "stdout",
          "text": [
            "hello world\n",
            "good morning\n"
          ]
        }
      ]
    },
    {
      "cell_type": "code",
      "source": [
        "# variables = data store location ?\n",
        "# mutable ?\n",
        "\n",
        "name = \"ayushi\"\n",
        "age = 22\n",
        "rupee = 33.7\n",
        "is_Adult = True\n",
        "\n",
        "print(name)\n",
        "print(\"name\")\n",
        "print(age)\n",
        "print(rupee)\n",
        "print(is_Adult)"
      ],
      "metadata": {
        "colab": {
          "base_uri": "https://localhost:8080/"
        },
        "id": "QH3cOhcni8FI",
        "outputId": "480d28ac-4f56-48ad-ea2c-6723b064468a"
      },
      "execution_count": 9,
      "outputs": [
        {
          "output_type": "stream",
          "name": "stdout",
          "text": [
            "ayushi\n",
            "name\n",
            "22\n",
            "33.7\n",
            "True\n"
          ]
        }
      ]
    },
    {
      "cell_type": "code",
      "source": [
        "#ques - add a person with name Tony Shark?\n",
        "#ques - tony age is 51 years old?\n",
        "#ques - tony is a genius?"
      ],
      "metadata": {
        "id": "bWr8rZIHjRSL"
      },
      "execution_count": 11,
      "outputs": []
    },
    {
      "cell_type": "code",
      "source": [
        "# how to take input from the user ?\n",
        "\n",
        "first_name = input(\"enter the name\")\n",
        "print(first_name)\n",
        "print(\"hello\" +\" \"+ first_name)"
      ],
      "metadata": {
        "colab": {
          "base_uri": "https://localhost:8080/"
        },
        "id": "rkqBEfbxkFs-",
        "outputId": "7b8b717f-8ea9-4a10-f1e3-a0343e93ea03"
      },
      "execution_count": 17,
      "outputs": [
        {
          "output_type": "stream",
          "name": "stdout",
          "text": [
            "enter the nameayushi\n",
            "ayushi\n",
            "hello ayushi\n"
          ]
        }
      ]
    },
    {
      "cell_type": "code",
      "source": [
        "# ques - what is your super hero name?\n"
      ],
      "metadata": {
        "id": "aUU-9igDkgtf"
      },
      "execution_count": 14,
      "outputs": []
    },
    {
      "cell_type": "code",
      "source": [
        "# Type conversion ?\n",
        "# int() / float()/ str() / bool()\n",
        "\n",
        "old_age = int(input(\"enter the age \"))\n",
        "new_age = old_age+5\n",
        "print(new_age)"
      ],
      "metadata": {
        "colab": {
          "base_uri": "https://localhost:8080/"
        },
        "id": "sjqxu_hRk17F",
        "outputId": "6cd47261-b1dc-46c5-8fa6-2e4c91024653"
      },
      "execution_count": 18,
      "outputs": [
        {
          "output_type": "stream",
          "name": "stdout",
          "text": [
            "enter the age 20\n",
            "25\n"
          ]
        }
      ]
    },
    {
      "cell_type": "code",
      "source": [
        "old_age = input(\"enter the age \")\n",
        "new_age = old_age+5\n",
        "print(new_age)"
      ],
      "metadata": {
        "colab": {
          "base_uri": "https://localhost:8080/",
          "height": 217
        },
        "id": "y6ZGog4Kl8dT",
        "outputId": "c92af991-773b-4819-8c1a-5e48ba5f6fa6"
      },
      "execution_count": 19,
      "outputs": [
        {
          "name": "stdout",
          "output_type": "stream",
          "text": [
            "enter the age 20\n"
          ]
        },
        {
          "output_type": "error",
          "ename": "TypeError",
          "evalue": "ignored",
          "traceback": [
            "\u001b[0;31m---------------------------------------------------------------------------\u001b[0m",
            "\u001b[0;31mTypeError\u001b[0m                                 Traceback (most recent call last)",
            "\u001b[0;32m<ipython-input-19-ef80dd2c9782>\u001b[0m in \u001b[0;36m<module>\u001b[0;34m\u001b[0m\n\u001b[1;32m      1\u001b[0m \u001b[0mold_age\u001b[0m \u001b[0;34m=\u001b[0m \u001b[0minput\u001b[0m\u001b[0;34m(\u001b[0m\u001b[0;34m\"enter the age \"\u001b[0m\u001b[0;34m)\u001b[0m\u001b[0;34m\u001b[0m\u001b[0;34m\u001b[0m\u001b[0m\n\u001b[0;32m----> 2\u001b[0;31m \u001b[0mnew_age\u001b[0m \u001b[0;34m=\u001b[0m \u001b[0mold_age\u001b[0m\u001b[0;34m+\u001b[0m\u001b[0;36m5\u001b[0m\u001b[0;34m\u001b[0m\u001b[0;34m\u001b[0m\u001b[0m\n\u001b[0m\u001b[1;32m      3\u001b[0m \u001b[0mprint\u001b[0m\u001b[0;34m(\u001b[0m\u001b[0mnew_age\u001b[0m\u001b[0;34m)\u001b[0m\u001b[0;34m\u001b[0m\u001b[0;34m\u001b[0m\u001b[0m\n",
            "\u001b[0;31mTypeError\u001b[0m: can only concatenate str (not \"int\") to str"
          ]
        }
      ]
    },
    {
      "cell_type": "code",
      "source": [
        "# num to float ?\n",
        "\n",
        "num1 = 10\n",
        "print(float(num1))"
      ],
      "metadata": {
        "colab": {
          "base_uri": "https://localhost:8080/"
        },
        "id": "FAhTZ4RymFN2",
        "outputId": "db3e0f61-b73d-4ed8-b4bf-19ab25fa1231"
      },
      "execution_count": 20,
      "outputs": [
        {
          "output_type": "stream",
          "name": "stdout",
          "text": [
            "10.0\n"
          ]
        }
      ]
    },
    {
      "cell_type": "code",
      "source": [
        "# num to string ?\n",
        "\n",
        "num1 = 10\n",
        "print(str(num1))"
      ],
      "metadata": {
        "colab": {
          "base_uri": "https://localhost:8080/"
        },
        "id": "hO8QVXD6mTch",
        "outputId": "dfd49bc9-210e-4883-ad1f-a25a7e790c00"
      },
      "execution_count": 21,
      "outputs": [
        {
          "output_type": "stream",
          "name": "stdout",
          "text": [
            "10\n"
          ]
        }
      ]
    },
    {
      "cell_type": "code",
      "source": [
        "# string to float?\n",
        "\n",
        "#num1 = \"abc\"\n",
        "#print(float(num1))"
      ],
      "metadata": {
        "id": "SiekcRVsmYMG"
      },
      "execution_count": 26,
      "outputs": []
    },
    {
      "cell_type": "code",
      "source": [
        "# string to number?\n",
        "\n",
        "#num1 = \"abc\"\n",
        "#print(int(num1))"
      ],
      "metadata": {
        "id": "4z9yPA9Pmo8g"
      },
      "execution_count": 27,
      "outputs": []
    },
    {
      "cell_type": "code",
      "source": [
        "# float to number ?\n",
        "\n",
        "num1 = 22.5\n",
        "print(int(num1))"
      ],
      "metadata": {
        "colab": {
          "base_uri": "https://localhost:8080/"
        },
        "id": "FHnzFPV5mt3C",
        "outputId": "acc4edeb-7f35-451e-ef33-d6ae205d01a8"
      },
      "execution_count": 28,
      "outputs": [
        {
          "output_type": "stream",
          "name": "stdout",
          "text": [
            "22\n"
          ]
        }
      ]
    },
    {
      "cell_type": "code",
      "source": [
        "# float to string ?\n",
        "\n",
        "num1 = 22.5\n",
        "print(str(num1))"
      ],
      "metadata": {
        "colab": {
          "base_uri": "https://localhost:8080/"
        },
        "id": "xFDHByIYnKt4",
        "outputId": "28a63a3d-4317-47e0-c9df-bc28c41f85aa"
      },
      "execution_count": 29,
      "outputs": [
        {
          "output_type": "stream",
          "name": "stdout",
          "text": [
            "22.5\n"
          ]
        }
      ]
    },
    {
      "cell_type": "code",
      "source": [
        "first_num = int(input(\"enter the first number :\"))\n",
        "second_num = int(input(\"enter the second number :\"))\n",
        "sum = str(first_num + second_num)\n",
        "print(\"the sum of the numbers is :\" + sum)"
      ],
      "metadata": {
        "colab": {
          "base_uri": "https://localhost:8080/"
        },
        "id": "emAUKUbWnWlf",
        "outputId": "9ea588dc-bc67-410c-86e3-971e102ea8d5"
      },
      "execution_count": 33,
      "outputs": [
        {
          "output_type": "stream",
          "name": "stdout",
          "text": [
            "enter the first number :7\n",
            "enter the second number :8\n",
            "the sum of the numbers is :15\n"
          ]
        }
      ]
    },
    {
      "cell_type": "code",
      "source": [
        "# methods in string\n",
        "\n",
        "name = \"ayushi\"\n",
        "print(name.upper())\n",
        "print(name.capitalize())\n",
        "print(name.find('a'))\n",
        "print(name.lower())\n",
        "print(name.find('us'))\n",
        "print(name.replace(\"ayushi\",\"raghuu decathalon\"))\n",
        "print(name.replace(\"i\",'y'))\n",
        "print('y' in name)\n",
        "print(\"t\" in name)\n",
        "print(name.count('a'))\n",
        "\n"
      ],
      "metadata": {
        "colab": {
          "base_uri": "https://localhost:8080/"
        },
        "id": "fwPoIaU9oPcy",
        "outputId": "0e2dd9f1-7c2d-4b0d-fd8e-612941462537"
      },
      "execution_count": 46,
      "outputs": [
        {
          "output_type": "stream",
          "name": "stdout",
          "text": [
            "AYUSHI\n",
            "Ayushi\n",
            "0\n",
            "ayushi\n",
            "2\n",
            "raghuu decathalon\n",
            "ayushy\n",
            "True\n",
            "False\n",
            "1\n"
          ]
        }
      ]
    },
    {
      "cell_type": "code",
      "source": [
        "# operators in python - arithmetic operators\n",
        "\n",
        "print(1+2)\n",
        "print(4+7)\n",
        "print(5-4)\n",
        "print(5/4)\n",
        "print(5//4)\n",
        "print(5*4)\n",
        "print(5**2)\n"
      ],
      "metadata": {
        "colab": {
          "base_uri": "https://localhost:8080/"
        },
        "id": "v1v2EQ8zo4je",
        "outputId": "c96e529e-cac9-49b0-9c4d-7892327d96b3"
      },
      "execution_count": 48,
      "outputs": [
        {
          "output_type": "stream",
          "name": "stdout",
          "text": [
            "3\n",
            "11\n",
            "1\n",
            "1.25\n",
            "1\n",
            "20\n",
            "25\n"
          ]
        }
      ]
    },
    {
      "cell_type": "code",
      "source": [
        "# shortcuts of operators\n",
        "# precedence of operators -  (* > +)\n",
        "\n",
        "i = 5\n",
        "#i = i+5\n",
        "i += 5\n",
        "print(i)\n",
        "\n",
        "j = 10\n",
        "# j = j-3\n",
        "j-=3\n",
        "print(j)\n",
        "\n",
        "k=8\n",
        "#k = k*10\n",
        "k *= 10\n",
        "print(k)\n",
        "\n",
        "h = 6\n",
        "# h = h/10\n",
        "h /=10\n",
        "print(h)\n",
        "\n",
        "m = 10\n",
        "#m = m**2\n",
        "m **= 2\n",
        "print(m)\n",
        "\n",
        "n = 3\n",
        "#n = n//5\n",
        "n //= 5\n",
        "print(n)"
      ],
      "metadata": {
        "colab": {
          "base_uri": "https://localhost:8080/"
        },
        "id": "iSsecrHPrXkh",
        "outputId": "29f08cdf-d17c-44e0-bdf0-5be15991fe19"
      },
      "execution_count": 57,
      "outputs": [
        {
          "output_type": "stream",
          "name": "stdout",
          "text": [
            "10\n",
            "7\n",
            "80\n",
            "0.6\n",
            "100\n",
            "0\n"
          ]
        }
      ]
    },
    {
      "cell_type": "code",
      "source": [
        "# comparision operators \n",
        "#return boolean value\n",
        "\n",
        "print(2>3)\n",
        "print(2==3)\n",
        "print(2<3)\n",
        "print(2>=2)\n",
        "print(2<=3)\n",
        "print(2!=3)\n",
        "print(3!=3)\n"
      ],
      "metadata": {
        "colab": {
          "base_uri": "https://localhost:8080/"
        },
        "id": "BQkNOQfYrtx-",
        "outputId": "b2f460ba-8792-4300-8885-2e7cc3957961"
      },
      "execution_count": 60,
      "outputs": [
        {
          "output_type": "stream",
          "name": "stdout",
          "text": [
            "False\n",
            "False\n",
            "True\n",
            "True\n",
            "True\n",
            "True\n",
            "False\n"
          ]
        }
      ]
    },
    {
      "cell_type": "code",
      "source": [
        "# logical operators ?\n",
        "#OR / AND \n",
        "\n",
        "# OR \n",
        "print(2>3 or 2>1)       # if any one is true then it returns true\n",
        "print(3==3 or 2==2)\n",
        "print(3>4 or 4>5 )\n",
        "\n",
        "# AND\n",
        "print(2>3 and 2>1 )     # if both are true then it gives true\n",
        "print(3==3 and 2==2)\n",
        "print(3>4 and 4>5)\n",
        "\n",
        "# NOT  \n",
        "print(not 2>3)          #changes true to false and false to true\n",
        "print(not 3==3)"
      ],
      "metadata": {
        "colab": {
          "base_uri": "https://localhost:8080/"
        },
        "id": "RYMHGXcAtfWy",
        "outputId": "8d2a6244-782d-47f5-a1fc-526826faf0fd"
      },
      "execution_count": 68,
      "outputs": [
        {
          "output_type": "stream",
          "name": "stdout",
          "text": [
            "True\n",
            "True\n",
            "False\n",
            "False\n",
            "True\n",
            "False\n",
            "True\n",
            "False\n"
          ]
        }
      ]
    },
    {
      "cell_type": "code",
      "source": [
        "# if else statement - conditional statements \n",
        "\n",
        "age = 19\n",
        "if age>=20:\n",
        "  print(\"you are an adult\")\n",
        "  print(\"you can vote\")\n",
        "\n",
        "print(\"thankyou\")\n",
        "\n"
      ],
      "metadata": {
        "colab": {
          "base_uri": "https://localhost:8080/"
        },
        "id": "avygUOvauACi",
        "outputId": "0ed9d669-a744-44bd-fc31-f59238d71035"
      },
      "execution_count": 74,
      "outputs": [
        {
          "output_type": "stream",
          "name": "stdout",
          "text": [
            "thankyou\n"
          ]
        }
      ]
    },
    {
      "cell_type": "code",
      "source": [
        "age1 = 13\n",
        "if age1>=18:\n",
        "  print(\"you are an adult\")\n",
        "  print(\"you can vote\")\n",
        "elif age<18 and age>3:\n",
        "  print(\"you are in school\")\n",
        "else:\n",
        "  print(\"not eligible\")\n",
        "\n",
        "print(\"thankyou\")"
      ],
      "metadata": {
        "colab": {
          "base_uri": "https://localhost:8080/"
        },
        "id": "BNWb57MCvqfM",
        "outputId": "a92fe1f1-a574-491d-f18e-d03184fe6397"
      },
      "execution_count": 73,
      "outputs": [
        {
          "output_type": "stream",
          "name": "stdout",
          "text": [
            "not eligible\n",
            "thankyou\n"
          ]
        }
      ]
    },
    {
      "cell_type": "code",
      "source": [
        "# calculator program ?\n",
        "\n",
        "first = int(input(\"enter the first number\"))\n",
        "second = int(input(\"enter the second number\"))\n",
        "operator = input(\"enter the operator:\")\n",
        "\n",
        "if operator == \"+\":\n",
        "  print(first + second)\n",
        "elif operator == \"-\":\n",
        "  print(first - second)\n",
        "elif operator == \"*\":\n",
        "  print(first * second)\n",
        "elif operator == \"/\":\n",
        "  print(first / second)\n",
        "else:\n",
        "  print(\"invalid operator\")\n"
      ],
      "metadata": {
        "colab": {
          "base_uri": "https://localhost:8080/"
        },
        "id": "wngP--R6wLaW",
        "outputId": "452ef301-6e33-4f8b-b8b8-52c1854e0c50"
      },
      "execution_count": 77,
      "outputs": [
        {
          "output_type": "stream",
          "name": "stdout",
          "text": [
            "enter the first number10\n",
            "enter the second number5\n",
            "enter the operator:+\n",
            "15\n"
          ]
        }
      ]
    },
    {
      "cell_type": "code",
      "source": [
        "#Range\n",
        "num=range(5)\n",
        "num"
      ],
      "metadata": {
        "colab": {
          "base_uri": "https://localhost:8080/"
        },
        "id": "0TGsGBu_xKX0",
        "outputId": "c507718e-a115-47b0-bcd3-79466874a99d"
      },
      "execution_count": 81,
      "outputs": [
        {
          "output_type": "execute_result",
          "data": {
            "text/plain": [
              "range(0, 5)"
            ]
          },
          "metadata": {},
          "execution_count": 81
        }
      ]
    },
    {
      "cell_type": "code",
      "source": [
        "# LOOPS\n",
        "\n",
        "i = 1\n",
        "while i<=10:\n",
        "  print(i)\n",
        "  i+=1"
      ],
      "metadata": {
        "colab": {
          "base_uri": "https://localhost:8080/"
        },
        "id": "IvOJekoxymxQ",
        "outputId": "b5926298-d7a7-41c1-aea6-ef6993619549"
      },
      "execution_count": 86,
      "outputs": [
        {
          "output_type": "stream",
          "name": "stdout",
          "text": [
            "1\n",
            "2\n",
            "3\n",
            "4\n",
            "5\n",
            "6\n",
            "7\n",
            "8\n",
            "9\n",
            "10\n"
          ]
        }
      ]
    },
    {
      "cell_type": "code",
      "source": [
        "# LOOPS\n",
        "\n",
        "i = 1\n",
        "while i<=5:\n",
        "  print(i * \"*\")\n",
        "  i+=1"
      ],
      "metadata": {
        "colab": {
          "base_uri": "https://localhost:8080/"
        },
        "id": "f2weRfScyxgT",
        "outputId": "e918bf67-d969-44ba-f2cc-267f28822f57"
      },
      "execution_count": 89,
      "outputs": [
        {
          "output_type": "stream",
          "name": "stdout",
          "text": [
            "*\n",
            "**\n",
            "***\n",
            "****\n",
            "*****\n"
          ]
        }
      ]
    },
    {
      "cell_type": "code",
      "source": [
        "# LOOPS\n",
        "\n",
        "i = 5\n",
        "while i>=1:\n",
        "  print(i * \"*\")\n",
        "  i-=1"
      ],
      "metadata": {
        "colab": {
          "base_uri": "https://localhost:8080/"
        },
        "id": "_qdMS4YIy-DW",
        "outputId": "4c8caddc-1bcf-4e2c-cbe0-8ea2590ac773"
      },
      "execution_count": 90,
      "outputs": [
        {
          "output_type": "stream",
          "name": "stdout",
          "text": [
            "*****\n",
            "****\n",
            "***\n",
            "**\n",
            "*\n"
          ]
        }
      ]
    },
    {
      "cell_type": "code",
      "source": [
        "for i in range(10):\n",
        "  print(i)\n",
        "  i+=1"
      ],
      "metadata": {
        "colab": {
          "base_uri": "https://localhost:8080/"
        },
        "id": "pu_NCcZozMLi",
        "outputId": "2edbcee3-9194-4f7c-853b-df6195e1b225"
      },
      "execution_count": 94,
      "outputs": [
        {
          "output_type": "stream",
          "name": "stdout",
          "text": [
            "0\n",
            "1\n",
            "2\n",
            "3\n",
            "4\n",
            "5\n",
            "6\n",
            "7\n",
            "8\n",
            "9\n"
          ]
        }
      ]
    },
    {
      "cell_type": "code",
      "source": [],
      "metadata": {
        "id": "PF-bOPTYzWRZ"
      },
      "execution_count": null,
      "outputs": []
    }
  ]
}