{
  "nbformat": 4,
  "nbformat_minor": 0,
  "metadata": {
    "colab": {
      "provenance": [],
      "authorship_tag": "ABX9TyMdXoEvfJVAIDmm3jjnLblq",
      "include_colab_link": true
    },
    "kernelspec": {
      "name": "python3",
      "display_name": "Python 3"
    },
    "language_info": {
      "name": "python"
    }
  },
  "cells": [
    {
      "cell_type": "markdown",
      "metadata": {
        "id": "view-in-github",
        "colab_type": "text"
      },
      "source": [
        "<a href=\"https://colab.research.google.com/github/ayushi7503/DATA-SCIENCE/blob/main/notes_for_python.ipynb\" target=\"_parent\"><img src=\"https://colab.research.google.com/assets/colab-badge.svg\" alt=\"Open In Colab\"/></a>"
      ]
    },
    {
      "cell_type": "code",
      "execution_count": 1,
      "metadata": {
        "id": "hZRUWiVGYJXg"
      },
      "outputs": [],
      "source": [
        "#Tools to use - python IDLE/ Pycharm / colab / jupyter notebook\n",
        "#extension of file saved - .py\n",
        "\n",
        "#python:\n",
        "#python is interpreted high level language\n",
        "#case sensitive language\n",
        "#easy syntax\n",
        "#open source\n",
        "#used to make gui/web based app/algos\n",
        "\n",
        "#identifiers - used to identify the variables / functions etc.\n",
        "#rules of creating identifiers are  - start with zero or more letters, _ ,& digits\n",
        "\n",
        "#keywords - all keywords are in lower case (inbuilt) - 33 keywords in python (del, for etc)\n",
        "\n",
        "# Python Data Types - int / float / complex / bool / string (primitive data type)\n",
        "\n",
        "# Python Data Structures - list / tuple / set / dict (complex data type)\n",
        "\n",
        "##### SYLLABUS :\n",
        "## variables / data types / operators\n",
        "## arrays\n",
        "## flow control\n",
        "## methods\n",
        "## file handling\n",
        "## oops\n",
        "\n",
        "\n",
        "### fields - ml engg / iot devices / data science / data analyst / automation engg \n",
        "\n",
        "#### INSTALLATION: python.org / download python / install (IDE - integrated development environment / GUI )\n",
        "\n",
        "### ANANCONDA INSTALLATION : (anaconda.com/distribution)-.>download->install"
      ]
    },
    {
      "cell_type": "markdown",
      "source": [
        "## to check the version of python"
      ],
      "metadata": {
        "id": "XooWqkO9wDxE"
      }
    },
    {
      "cell_type": "code",
      "source": [
        "from platform import python_version # from is for package / import is for importing the module!\n",
        "python_version()"
      ],
      "metadata": {
        "colab": {
          "base_uri": "https://localhost:8080/",
          "height": 36
        },
        "id": "uhlX3-Y_wJi2",
        "outputId": "3b1ecb14-06e9-40be-d5b6-8e69d4ade5e5"
      },
      "execution_count": 12,
      "outputs": [
        {
          "output_type": "execute_result",
          "data": {
            "text/plain": [
              "'3.9.16'"
            ],
            "application/vnd.google.colaboratory.intrinsic+json": {
              "type": "string"
            }
          },
          "metadata": {},
          "execution_count": 12
        }
      ]
    },
    {
      "cell_type": "code",
      "source": [
        "# naming convention:\n",
        "\n",
        "#lowercase names to variables / functions / class.\n",
        "#class names should have first letter upper case then followed by the lowercase\n",
        "#all constants should be capitalize.\n",
        "#if a name contains two words seperate them by underscore.\n"
      ],
      "metadata": {
        "id": "5eXg3Zj_dXjM"
      },
      "execution_count": 2,
      "outputs": []
    },
    {
      "cell_type": "code",
      "source": [
        "#variable : no additional command is required for decalaring the variable.\n",
        "#no special characters are allowed \n",
        "\n",
        "#command - shift+enter (command executes and send the new cell after output)\n",
        "# command - ctrl+enter (command executed but the cell is not shifted to the new cell)\n",
        "# esc A - add the cell above.\n",
        "# esc B - add the cell below."
      ],
      "metadata": {
        "id": "B7gI5knteJi0"
      },
      "execution_count": 3,
      "outputs": []
    },
    {
      "cell_type": "code",
      "source": [
        "#First python program - hello world !\n",
        "\n",
        "print(\"hello world\")\n",
        "print(\"good morning\")"
      ],
      "metadata": {
        "colab": {
          "base_uri": "https://localhost:8080/"
        },
        "id": "gpKPkltRz12p",
        "outputId": "68eb5f12-2cb1-4268-f605-840b58ed70f0"
      },
      "execution_count": 17,
      "outputs": [
        {
          "output_type": "stream",
          "name": "stdout",
          "text": [
            "hello world\n",
            "good morning\n"
          ]
        }
      ]
    },
    {
      "cell_type": "code",
      "source": [
        "# variables = data store location ?\n",
        "# mutable = we can change the values .\n",
        "\n",
        "name = \"ayushi\"\n",
        "age = 22\n",
        "rupee = 33.7\n",
        "is_Adult = True\n",
        "\n",
        "print(name)\n",
        "print(\"name\")\n",
        "print(age)\n",
        "print(rupee)\n",
        "print(is_Adult)"
      ],
      "metadata": {
        "colab": {
          "base_uri": "https://localhost:8080/"
        },
        "id": "Lzs0KX04z609",
        "outputId": "b27ad305-6352-4eb3-ec68-a1f93a22d3ad"
      },
      "execution_count": 18,
      "outputs": [
        {
          "output_type": "stream",
          "name": "stdout",
          "text": [
            "ayushi\n",
            "name\n",
            "22\n",
            "33.7\n",
            "True\n"
          ]
        }
      ]
    },
    {
      "cell_type": "code",
      "source": [
        "# how to take input from the user ?\n",
        "\n",
        "first_name = input(\"enter the name :\")\n",
        "print(first_name)\n",
        "print(\"hello\" +\" \"+ first_name)"
      ],
      "metadata": {
        "colab": {
          "base_uri": "https://localhost:8080/"
        },
        "id": "rFy96Dch0KFg",
        "outputId": "8545aa07-a232-4960-d333-665fde5c5df9"
      },
      "execution_count": 19,
      "outputs": [
        {
          "output_type": "stream",
          "name": "stdout",
          "text": [
            "enter the name :ayushi\n",
            "ayushi\n",
            "hello ayushi\n"
          ]
        }
      ]
    },
    {
      "cell_type": "code",
      "source": [
        "# Type conversion ?\n",
        "# int() / float()/ str() / bool()\n",
        "\n",
        "old_age = int(input(\"enter the age \"))\n",
        "new_age = old_age+5\n",
        "print(new_age)"
      ],
      "metadata": {
        "colab": {
          "base_uri": "https://localhost:8080/"
        },
        "id": "gmgQWCzC0RRQ",
        "outputId": "dc5d526b-8434-41e9-a6bc-29e00d5b7447"
      },
      "execution_count": 20,
      "outputs": [
        {
          "output_type": "stream",
          "name": "stdout",
          "text": [
            "enter the age 43\n",
            "48\n"
          ]
        }
      ]
    },
    {
      "cell_type": "code",
      "source": [
        "#global / local variable:\n",
        "\n",
        "c = \"hello world\"                           # global\n",
        "def func(c):\n",
        "  #c = \"Ayushi Gupta\"                        #local \n",
        "  print(c)\n",
        "  \n",
        "func(c)\n",
        "print(c)"
      ],
      "metadata": {
        "colab": {
          "base_uri": "https://localhost:8080/"
        },
        "id": "ViV8043ofTPl",
        "outputId": "a7976a4f-9bb4-45ce-b01a-80f066f741a7"
      },
      "execution_count": 6,
      "outputs": [
        {
          "output_type": "stream",
          "name": "stdout",
          "text": [
            "hello world\n",
            "hello world\n"
          ]
        }
      ]
    },
    {
      "cell_type": "code",
      "source": [
        "#Data Types : type of data element define by the values:\n",
        "# int / float / complex / bool / string\n",
        "\n",
        "#data structure : enable the user to store the data : \n",
        "# list / tuple / dict / set\n",
        "\n"
      ],
      "metadata": {
        "id": "ZkYZieeDfmcB"
      },
      "execution_count": 7,
      "outputs": []
    },
    {
      "cell_type": "markdown",
      "source": [
        "## *STRING*"
      ],
      "metadata": {
        "id": "5wn48i4LvEt-"
      }
    },
    {
      "cell_type": "code",
      "source": [
        "# methods in string\n",
        "\n",
        "name = \"ayushi\"\n",
        "\n",
        "print(name.upper())\n",
        "print(name.capitalize())\n",
        "print(name.find('a'))\n",
        "print(name.lower())\n",
        "print(name.find('us'))\n",
        "print(name.replace(\"ayushi\",\"raghuu decathalon\"))\n",
        "print(name.replace(\"i\",'y'))\n",
        "print('y' in name)\n",
        "print(\"t\" in name)\n",
        "print(name.index(\"a\"))\n",
        "print(name.count('a'))"
      ],
      "metadata": {
        "colab": {
          "base_uri": "https://localhost:8080/"
        },
        "id": "t1r4T0owvI-e",
        "outputId": "41868ff0-df0e-4bbd-f409-98d082170b32"
      },
      "execution_count": 9,
      "outputs": [
        {
          "output_type": "stream",
          "name": "stdout",
          "text": [
            "AYUSHI\n",
            "Ayushi\n",
            "0\n",
            "ayushi\n",
            "2\n",
            "raghuu decathalon\n",
            "ayushy\n",
            "True\n",
            "False\n",
            "0\n",
            "1\n"
          ]
        }
      ]
    },
    {
      "cell_type": "markdown",
      "source": [
        "## **OPERATORS**"
      ],
      "metadata": {
        "id": "VCM3eQ9LxCNF"
      }
    },
    {
      "cell_type": "code",
      "source": [
        "# methods in int and float with operators:\n",
        "\n",
        "num = 1\n",
        "sum = 2\n",
        "print(num + sum)\n",
        "print(num * sum)\n",
        "print(num /sum)\n",
        "print(num//sum)\n",
        "print(num**sum)\n",
        "print(num>sum)\n",
        "print(num>=sum)\n",
        "print(num<sum)\n",
        "print(num<=sum)\n",
        "print(num-sum)\n",
        "print(num<sum and num<=sum)\n",
        "print(num <sum or num >sum)"
      ],
      "metadata": {
        "colab": {
          "base_uri": "https://localhost:8080/"
        },
        "id": "Zb34IUBsvYwH",
        "outputId": "6e714212-40ed-4833-ada0-8b49393a1557"
      },
      "execution_count": 16,
      "outputs": [
        {
          "output_type": "stream",
          "name": "stdout",
          "text": [
            "3\n",
            "2\n",
            "0.5\n",
            "0\n",
            "1\n",
            "False\n",
            "False\n",
            "True\n",
            "True\n",
            "-1\n",
            "True\n",
            "True\n"
          ]
        }
      ]
    },
    {
      "cell_type": "markdown",
      "source": [
        "### **conditional statement**"
      ],
      "metadata": {
        "id": "12gHmB6Z0gH1"
      }
    },
    {
      "cell_type": "code",
      "source": [
        "# if else statement - conditional statements \n",
        "\n",
        "age = 19\n",
        "if age>=19:\n",
        "  print(\"you are an adult\")\n",
        "  print(\"you can vote\")\n",
        "\n",
        "print(\"thankyou\")\n",
        "print(\"ayushi\")\n"
      ],
      "metadata": {
        "colab": {
          "base_uri": "https://localhost:8080/"
        },
        "id": "JSlM6rvf0kWr",
        "outputId": "70dd2115-7a9a-41be-d1e5-0172638ea748"
      },
      "execution_count": 21,
      "outputs": [
        {
          "output_type": "stream",
          "name": "stdout",
          "text": [
            "you are an adult\n",
            "you can vote\n",
            "thankyou\n",
            "ayushi\n"
          ]
        }
      ]
    },
    {
      "cell_type": "code",
      "source": [
        "age1 = 13\n",
        "if age1>=18:\n",
        "  print(\"you are an adult\")\n",
        "  print(\"you can vote\")\n",
        "\n",
        "elif age1>18 and age1>3:\n",
        "  print(\"you are in school\")\n",
        "\n",
        "else:\n",
        "  print(\"not eligible\")\n",
        "\n",
        "print(\"thankyou\")"
      ],
      "metadata": {
        "colab": {
          "base_uri": "https://localhost:8080/"
        },
        "id": "uGyjbsHz0oEB",
        "outputId": "8d9f54ff-f7a3-4d9a-9724-7d2a8c467a6b"
      },
      "execution_count": 22,
      "outputs": [
        {
          "output_type": "stream",
          "name": "stdout",
          "text": [
            "not eligible\n",
            "thankyou\n"
          ]
        }
      ]
    },
    {
      "cell_type": "code",
      "source": [
        "# calculator program ?\n",
        "\n",
        "first = int(input(\"enter the first number\"))\n",
        "second = int(input(\"enter the second number\"))\n",
        "operator = input(\"enter the operator:\")\n",
        "\n",
        "if operator == \"+\":\n",
        "  print(first + second)\n",
        "elif operator == \"-\":\n",
        "  print(first - second)\n",
        "elif operator == \"*\":\n",
        "  print(first * second)\n",
        "elif operator == \"/\":\n",
        "  print(first / second)\n",
        "else:\n",
        "  print(\"invalid operator\")"
      ],
      "metadata": {
        "colab": {
          "base_uri": "https://localhost:8080/"
        },
        "id": "VW7mtGX21ORb",
        "outputId": "d2568522-734c-494f-9be9-6cdba1923a44"
      },
      "execution_count": 23,
      "outputs": [
        {
          "output_type": "stream",
          "name": "stdout",
          "text": [
            "enter the first number20\n",
            "enter the second number30\n",
            "enter the operator:+\n",
            "50\n"
          ]
        }
      ]
    },
    {
      "cell_type": "markdown",
      "source": [
        "### **LOOPS**"
      ],
      "metadata": {
        "id": "GbOTLtT71i9z"
      }
    },
    {
      "cell_type": "code",
      "source": [
        "i = 1\n",
        "while i<=10:\n",
        "  print(i)\n",
        "  i+=1"
      ],
      "metadata": {
        "colab": {
          "base_uri": "https://localhost:8080/"
        },
        "id": "4Xxaxl-X1ShV",
        "outputId": "336b6789-f956-48f2-9f8d-bdd277d193cd"
      },
      "execution_count": 24,
      "outputs": [
        {
          "output_type": "stream",
          "name": "stdout",
          "text": [
            "1\n",
            "2\n",
            "3\n",
            "4\n",
            "5\n",
            "6\n",
            "7\n",
            "8\n",
            "9\n",
            "10\n"
          ]
        }
      ]
    },
    {
      "cell_type": "code",
      "source": [
        "i = 1\n",
        "while i<=5:\n",
        "  print(i * \"*\")\n",
        "  i+=1"
      ],
      "metadata": {
        "colab": {
          "base_uri": "https://localhost:8080/"
        },
        "id": "dPkUyqrm1s8M",
        "outputId": "bfdea84a-129e-4fc3-e2f0-30e90ee6f9d7"
      },
      "execution_count": 25,
      "outputs": [
        {
          "output_type": "stream",
          "name": "stdout",
          "text": [
            "*\n",
            "**\n",
            "***\n",
            "****\n",
            "*****\n"
          ]
        }
      ]
    },
    {
      "cell_type": "code",
      "source": [
        "i = 5\n",
        "while i>=1:\n",
        "  print(i * \"*\")\n",
        "  i-=1"
      ],
      "metadata": {
        "colab": {
          "base_uri": "https://localhost:8080/"
        },
        "id": "eV4nWxgo1yhg",
        "outputId": "7ec35e21-8a8b-4b4a-9d58-82c47a90be9c"
      },
      "execution_count": 26,
      "outputs": [
        {
          "output_type": "stream",
          "name": "stdout",
          "text": [
            "*****\n",
            "****\n",
            "***\n",
            "**\n",
            "*\n"
          ]
        }
      ]
    },
    {
      "cell_type": "code",
      "source": [
        "for i in range(10):\n",
        "  print(i)\n",
        "  i+=1"
      ],
      "metadata": {
        "colab": {
          "base_uri": "https://localhost:8080/"
        },
        "id": "YfKmUXl511Dc",
        "outputId": "679d7aa8-a1d8-49f4-e59a-d76cabc6d0e9"
      },
      "execution_count": 27,
      "outputs": [
        {
          "output_type": "stream",
          "name": "stdout",
          "text": [
            "0\n",
            "1\n",
            "2\n",
            "3\n",
            "4\n",
            "5\n",
            "6\n",
            "7\n",
            "8\n",
            "9\n"
          ]
        }
      ]
    },
    {
      "cell_type": "code",
      "source": [
        "# marks print\n",
        "\n",
        "marks = [97,98,99,100]\n",
        "print(marks[0:3])\n",
        "for score in marks:\n",
        "  print(score)"
      ],
      "metadata": {
        "colab": {
          "base_uri": "https://localhost:8080/"
        },
        "id": "czsOKSeO129a",
        "outputId": "a9dbb681-b94d-4882-9ae7-ead2ace00d46"
      },
      "execution_count": 29,
      "outputs": [
        {
          "output_type": "stream",
          "name": "stdout",
          "text": [
            "[97, 98, 99]\n",
            "97\n",
            "98\n",
            "99\n",
            "100\n"
          ]
        }
      ]
    },
    {
      "cell_type": "markdown",
      "source": [
        "### **operations on list**"
      ],
      "metadata": {
        "id": "yeYSH9vK2ZNM"
      }
    },
    {
      "cell_type": "code",
      "source": [
        "marks = [97,98,99,100]\n",
        "marks.append(99)\n",
        "print(marks)\n",
        "\n",
        "marks.insert(0,99)\n",
        "print(marks)\n",
        "\n",
        "marks.extend([101])\n",
        "print(marks)\n",
        "\n",
        "print(99 in marks)\n",
        "\n",
        "print(len(marks))\n",
        "\n",
        "print(marks.index(99))\n",
        "\n",
        "print(sorted(marks))\n",
        "\n",
        "print(marks.pop())\n",
        "\n",
        "print(marks.pop(2))\n",
        "\n",
        "print(sorted(marks))\n",
        "\n",
        "print(sorted(marks,reverse=True))\n",
        "\n",
        "print(marks.count(99))\n",
        "\n",
        "print(min(marks))\n",
        "print(max(marks))\n",
        "del(marks[0])\n",
        "marks"
      ],
      "metadata": {
        "colab": {
          "base_uri": "https://localhost:8080/"
        },
        "id": "eS6Sku9d16oI",
        "outputId": "f0dddb4e-5c5b-4162-b25c-c4168ef604cd"
      },
      "execution_count": 51,
      "outputs": [
        {
          "output_type": "stream",
          "name": "stdout",
          "text": [
            "[97, 98, 99, 100, 99]\n",
            "[99, 97, 98, 99, 100, 99]\n",
            "[99, 97, 98, 99, 100, 99, 101]\n",
            "True\n",
            "7\n",
            "0\n",
            "[97, 98, 99, 99, 99, 100, 101]\n",
            "101\n",
            "98\n",
            "[97, 99, 99, 99, 100]\n",
            "[100, 99, 99, 99, 97]\n",
            "3\n",
            "97\n",
            "100\n"
          ]
        },
        {
          "output_type": "execute_result",
          "data": {
            "text/plain": [
              "[97, 99, 100, 99]"
            ]
          },
          "metadata": {},
          "execution_count": 51
        }
      ]
    },
    {
      "cell_type": "code",
      "source": [],
      "metadata": {
        "id": "5OABXG6k2R3r"
      },
      "execution_count": null,
      "outputs": []
    }
  ]
}