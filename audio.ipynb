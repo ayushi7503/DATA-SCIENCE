{
  "cells": [
    {
      "cell_type": "markdown",
      "metadata": {
        "id": "view-in-github",
        "colab_type": "text"
      },
      "source": [
        "<a href=\"https://colab.research.google.com/github/ayushi7503/DATA-SCIENCE/blob/main/audio.ipynb\" target=\"_parent\"><img src=\"https://colab.research.google.com/assets/colab-badge.svg\" alt=\"Open In Colab\"/></a>"
      ]
    },
    {
      "cell_type": "code",
      "execution_count": null,
      "metadata": {
        "id": "3QJIvDdc8zIK",
        "outputId": "6e3db77a-26fb-47ee-b1f6-6cd7a067c193"
      },
      "outputs": [
        {
          "name": "stdout",
          "output_type": "stream",
          "text": [
            "Collecting librosa\n",
            "  Downloading librosa-0.9.1-py3-none-any.whl (213 kB)\n",
            "Collecting pooch>=1.0\n",
            "  Downloading pooch-1.6.0-py3-none-any.whl (56 kB)\n",
            "Requirement already satisfied: scipy>=1.2.0 in c:\\users\\ad\\anaconda3\\lib\\site-packages (from librosa) (1.7.1)\n",
            "Requirement already satisfied: packaging>=20.0 in c:\\users\\ad\\anaconda3\\lib\\site-packages (from librosa) (21.0)\n",
            "Collecting audioread>=2.1.5\n",
            "  Downloading audioread-2.1.9.tar.gz (377 kB)\n",
            "Collecting resampy>=0.2.2\n",
            "  Downloading resampy-0.2.2.tar.gz (323 kB)\n",
            "Requirement already satisfied: decorator>=4.0.10 in c:\\users\\ad\\anaconda3\\lib\\site-packages (from librosa) (5.1.0)\n",
            "Requirement already satisfied: numba>=0.45.1 in c:\\users\\ad\\anaconda3\\lib\\site-packages (from librosa) (0.54.1)\n",
            "Requirement already satisfied: numpy>=1.17.0 in c:\\users\\ad\\anaconda3\\lib\\site-packages (from librosa) (1.20.3)\n",
            "Requirement already satisfied: joblib>=0.14 in c:\\users\\ad\\anaconda3\\lib\\site-packages (from librosa) (1.1.0)\n",
            "Requirement already satisfied: scikit-learn>=0.19.1 in c:\\users\\ad\\anaconda3\\lib\\site-packages (from librosa) (0.24.2)\n",
            "Collecting soundfile>=0.10.2\n",
            "  Downloading SoundFile-0.10.3.post1-py2.py3.cp26.cp27.cp32.cp33.cp34.cp35.cp36.pp27.pp32.pp33-none-win_amd64.whl (689 kB)\n",
            "Requirement already satisfied: llvmlite<0.38,>=0.37.0rc1 in c:\\users\\ad\\anaconda3\\lib\\site-packages (from numba>=0.45.1->librosa) (0.37.0)\n",
            "Requirement already satisfied: setuptools in c:\\users\\ad\\anaconda3\\lib\\site-packages (from numba>=0.45.1->librosa) (58.0.4)\n",
            "Requirement already satisfied: pyparsing>=2.0.2 in c:\\users\\ad\\anaconda3\\lib\\site-packages (from packaging>=20.0->librosa) (3.0.4)\n",
            "Requirement already satisfied: requests>=2.19.0 in c:\\users\\ad\\anaconda3\\lib\\site-packages (from pooch>=1.0->librosa) (2.26.0)\n",
            "Requirement already satisfied: appdirs>=1.3.0 in c:\\users\\ad\\anaconda3\\lib\\site-packages (from pooch>=1.0->librosa) (1.4.4)\n",
            "Requirement already satisfied: urllib3<1.27,>=1.21.1 in c:\\users\\ad\\anaconda3\\lib\\site-packages (from requests>=2.19.0->pooch>=1.0->librosa) (1.26.7)\n",
            "Requirement already satisfied: charset-normalizer~=2.0.0 in c:\\users\\ad\\anaconda3\\lib\\site-packages (from requests>=2.19.0->pooch>=1.0->librosa) (2.0.4)\n",
            "Requirement already satisfied: certifi>=2017.4.17 in c:\\users\\ad\\anaconda3\\lib\\site-packages (from requests>=2.19.0->pooch>=1.0->librosa) (2021.10.8)\n",
            "Requirement already satisfied: idna<4,>=2.5 in c:\\users\\ad\\anaconda3\\lib\\site-packages (from requests>=2.19.0->pooch>=1.0->librosa) (3.2)\n",
            "Requirement already satisfied: six>=1.3 in c:\\users\\ad\\anaconda3\\lib\\site-packages (from resampy>=0.2.2->librosa) (1.16.0)\n",
            "Requirement already satisfied: threadpoolctl>=2.0.0 in c:\\users\\ad\\anaconda3\\lib\\site-packages (from scikit-learn>=0.19.1->librosa) (2.2.0)\n",
            "Requirement already satisfied: cffi>=1.0 in c:\\users\\ad\\anaconda3\\lib\\site-packages (from soundfile>=0.10.2->librosa) (1.14.6)\n",
            "Requirement already satisfied: pycparser in c:\\users\\ad\\anaconda3\\lib\\site-packages (from cffi>=1.0->soundfile>=0.10.2->librosa) (2.20)\n",
            "Building wheels for collected packages: audioread, resampy\n",
            "  Building wheel for audioread (setup.py): started\n",
            "  Building wheel for audioread (setup.py): finished with status 'done'\n",
            "  Created wheel for audioread: filename=audioread-2.1.9-py3-none-any.whl size=23154 sha256=5aaf2ee65d98814f6da118fbe96122ddb5451cd975dcd00d0b22bf7522323ad0\n",
            "  Stored in directory: c:\\users\\ad\\appdata\\local\\pip\\cache\\wheels\\a2\\a3\\bd\\ec1568ce7515115a11ab686d509ad302124c782af065de47ee\n",
            "  Building wheel for resampy (setup.py): started\n",
            "  Building wheel for resampy (setup.py): finished with status 'done'\n",
            "  Created wheel for resampy: filename=resampy-0.2.2-py3-none-any.whl size=320731 sha256=69b716a72c11911d28ec114c95e29c312a4dea38b509dcf2a8fc4515e475dce4\n",
            "  Stored in directory: c:\\users\\ad\\appdata\\local\\pip\\cache\\wheels\\86\\2c\\7d\\46a32a246b0e5939cea2c5ec1492164073e0c5d16d666ae2cd\n",
            "Successfully built audioread resampy\n",
            "Installing collected packages: soundfile, resampy, pooch, audioread, librosa\n",
            "Successfully installed audioread-2.1.9 librosa-0.9.1 pooch-1.6.0 resampy-0.2.2 soundfile-0.10.3.post1\n",
            "Note: you may need to restart the kernel to use updated packages.\n"
          ]
        }
      ],
      "source": [
        "pip install librosa"
      ]
    },
    {
      "cell_type": "code",
      "execution_count": null,
      "metadata": {
        "id": "TRDe8TBn8zIS",
        "outputId": "50512507-fc6f-4ee6-d838-06e196004403"
      },
      "outputs": [
        {
          "name": "stdout",
          "output_type": "stream",
          "text": [
            "Collecting keras\n",
            "  Downloading keras-2.8.0-py2.py3-none-any.whl (1.4 MB)\n",
            "Installing collected packages: keras\n",
            "Successfully installed keras-2.8.0\n",
            "Note: you may need to restart the kernel to use updated packages.\n"
          ]
        }
      ],
      "source": [
        "pip install keras"
      ]
    },
    {
      "cell_type": "code",
      "execution_count": null,
      "metadata": {
        "id": "lY_eVsCL8zIU",
        "outputId": "19c23d1c-f6fb-4a0e-db97-0e5eabae81e5"
      },
      "outputs": [
        {
          "name": "stdout",
          "output_type": "stream",
          "text": [
            "Collecting tensorflow\n",
            "  Downloading tensorflow-2.8.0-cp39-cp39-win_amd64.whl (438.0 MB)\n",
            "Collecting flatbuffers>=1.12\n",
            "  Downloading flatbuffers-2.0-py2.py3-none-any.whl (26 kB)\n",
            "Collecting protobuf>=3.9.2\n",
            "  Downloading protobuf-3.20.1-cp39-cp39-win_amd64.whl (904 kB)\n",
            "Collecting opt-einsum>=2.3.2\n",
            "  Downloading opt_einsum-3.3.0-py3-none-any.whl (65 kB)\n",
            "Collecting termcolor>=1.1.0\n",
            "  Downloading termcolor-1.1.0.tar.gz (3.9 kB)\n",
            "Requirement already satisfied: h5py>=2.9.0 in c:\\users\\ad\\anaconda3\\lib\\site-packages (from tensorflow) (3.2.1)\n",
            "Requirement already satisfied: typing-extensions>=3.6.6 in c:\\users\\ad\\anaconda3\\lib\\site-packages (from tensorflow) (3.10.0.2)\n",
            "Requirement already satisfied: six>=1.12.0 in c:\\users\\ad\\anaconda3\\lib\\site-packages (from tensorflow) (1.16.0)\n",
            "Collecting grpcio<2.0,>=1.24.3\n",
            "  Downloading grpcio-1.44.0-cp39-cp39-win_amd64.whl (3.4 MB)\n",
            "Collecting tensorboard<2.9,>=2.8\n",
            "  Downloading tensorboard-2.8.0-py3-none-any.whl (5.8 MB)\n",
            "Requirement already satisfied: setuptools in c:\\users\\ad\\anaconda3\\lib\\site-packages (from tensorflow) (58.0.4)\n",
            "Collecting gast>=0.2.1\n",
            "  Downloading gast-0.5.3-py3-none-any.whl (19 kB)\n",
            "Collecting libclang>=9.0.1\n",
            "  Downloading libclang-14.0.1-py2.py3-none-win_amd64.whl (14.2 MB)\n",
            "Collecting tensorflow-io-gcs-filesystem>=0.23.1\n",
            "  Downloading tensorflow_io_gcs_filesystem-0.25.0-cp39-cp39-win_amd64.whl (1.5 MB)\n",
            "Requirement already satisfied: wrapt>=1.11.0 in c:\\users\\ad\\anaconda3\\lib\\site-packages (from tensorflow) (1.12.1)\n",
            "Collecting tf-estimator-nightly==2.8.0.dev2021122109\n",
            "  Downloading tf_estimator_nightly-2.8.0.dev2021122109-py2.py3-none-any.whl (462 kB)\n",
            "Collecting google-pasta>=0.1.1\n",
            "  Downloading google_pasta-0.2.0-py3-none-any.whl (57 kB)\n",
            "Requirement already satisfied: keras<2.9,>=2.8.0rc0 in c:\\users\\ad\\anaconda3\\lib\\site-packages (from tensorflow) (2.8.0)\n",
            "Requirement already satisfied: numpy>=1.20 in c:\\users\\ad\\anaconda3\\lib\\site-packages (from tensorflow) (1.20.3)\n",
            "Collecting keras-preprocessing>=1.1.1\n",
            "  Downloading Keras_Preprocessing-1.1.2-py2.py3-none-any.whl (42 kB)\n",
            "Collecting absl-py>=0.4.0\n",
            "  Downloading absl_py-1.0.0-py3-none-any.whl (126 kB)\n",
            "Collecting astunparse>=1.6.0\n",
            "  Downloading astunparse-1.6.3-py2.py3-none-any.whl (12 kB)\n",
            "Requirement already satisfied: wheel<1.0,>=0.23.0 in c:\\users\\ad\\anaconda3\\lib\\site-packages (from astunparse>=1.6.0->tensorflow) (0.37.0)\n",
            "Requirement already satisfied: requests<3,>=2.21.0 in c:\\users\\ad\\anaconda3\\lib\\site-packages (from tensorboard<2.9,>=2.8->tensorflow) (2.26.0)\n",
            "Collecting tensorboard-plugin-wit>=1.6.0\n",
            "  Downloading tensorboard_plugin_wit-1.8.1-py3-none-any.whl (781 kB)\n",
            "Requirement already satisfied: werkzeug>=0.11.15 in c:\\users\\ad\\anaconda3\\lib\\site-packages (from tensorboard<2.9,>=2.8->tensorflow) (2.0.2)\n",
            "Collecting google-auth<3,>=1.6.3\n",
            "  Downloading google_auth-2.6.6-py2.py3-none-any.whl (156 kB)\n",
            "Collecting markdown>=2.6.8\n",
            "  Downloading Markdown-3.3.6-py3-none-any.whl (97 kB)\n",
            "Collecting tensorboard-data-server<0.7.0,>=0.6.0\n",
            "  Downloading tensorboard_data_server-0.6.1-py3-none-any.whl (2.4 kB)\n",
            "Collecting google-auth-oauthlib<0.5,>=0.4.1\n",
            "  Downloading google_auth_oauthlib-0.4.6-py2.py3-none-any.whl (18 kB)\n",
            "Collecting rsa<5,>=3.1.4\n",
            "  Downloading rsa-4.8-py3-none-any.whl (39 kB)\n",
            "Collecting pyasn1-modules>=0.2.1\n",
            "  Downloading pyasn1_modules-0.2.8-py2.py3-none-any.whl (155 kB)\n",
            "Collecting cachetools<6.0,>=2.0.0\n",
            "  Downloading cachetools-5.0.0-py3-none-any.whl (9.1 kB)\n",
            "Collecting requests-oauthlib>=0.7.0\n",
            "  Downloading requests_oauthlib-1.3.1-py2.py3-none-any.whl (23 kB)\n",
            "Requirement already satisfied: importlib-metadata>=4.4 in c:\\users\\ad\\anaconda3\\lib\\site-packages (from markdown>=2.6.8->tensorboard<2.9,>=2.8->tensorflow) (4.8.1)\n",
            "Requirement already satisfied: zipp>=0.5 in c:\\users\\ad\\anaconda3\\lib\\site-packages (from importlib-metadata>=4.4->markdown>=2.6.8->tensorboard<2.9,>=2.8->tensorflow) (3.6.0)\n",
            "Collecting pyasn1<0.5.0,>=0.4.6\n",
            "  Downloading pyasn1-0.4.8-py2.py3-none-any.whl (77 kB)\n",
            "Requirement already satisfied: idna<4,>=2.5 in c:\\users\\ad\\anaconda3\\lib\\site-packages (from requests<3,>=2.21.0->tensorboard<2.9,>=2.8->tensorflow) (3.2)\n",
            "Requirement already satisfied: urllib3<1.27,>=1.21.1 in c:\\users\\ad\\anaconda3\\lib\\site-packages (from requests<3,>=2.21.0->tensorboard<2.9,>=2.8->tensorflow) (1.26.7)\n",
            "Requirement already satisfied: charset-normalizer~=2.0.0 in c:\\users\\ad\\anaconda3\\lib\\site-packages (from requests<3,>=2.21.0->tensorboard<2.9,>=2.8->tensorflow) (2.0.4)\n",
            "Requirement already satisfied: certifi>=2017.4.17 in c:\\users\\ad\\anaconda3\\lib\\site-packages (from requests<3,>=2.21.0->tensorboard<2.9,>=2.8->tensorflow) (2021.10.8)\n",
            "Collecting oauthlib>=3.0.0\n",
            "  Downloading oauthlib-3.2.0-py3-none-any.whl (151 kB)\n",
            "Building wheels for collected packages: termcolor\n",
            "  Building wheel for termcolor (setup.py): started\n",
            "  Building wheel for termcolor (setup.py): finished with status 'done'\n",
            "  Created wheel for termcolor: filename=termcolor-1.1.0-py3-none-any.whl size=4847 sha256=43591447798859bed41d657f5c96c9da0d13af918f0971fb50ea61e67758a30e\n",
            "  Stored in directory: c:\\users\\ad\\appdata\\local\\pip\\cache\\wheels\\b6\\0d\\90\\0d1bbd99855f99cb2f6c2e5ff96f8023fad8ec367695f7d72d\n",
            "Successfully built termcolor\n",
            "Installing collected packages: pyasn1, rsa, pyasn1-modules, oauthlib, cachetools, requests-oauthlib, google-auth, tensorboard-plugin-wit, tensorboard-data-server, protobuf, markdown, grpcio, google-auth-oauthlib, absl-py, tf-estimator-nightly, termcolor, tensorflow-io-gcs-filesystem, tensorboard, opt-einsum, libclang, keras-preprocessing, google-pasta, gast, flatbuffers, astunparse, tensorflow\n",
            "Successfully installed absl-py-1.0.0 astunparse-1.6.3 cachetools-5.0.0 flatbuffers-2.0 gast-0.5.3 google-auth-2.6.6 google-auth-oauthlib-0.4.6 google-pasta-0.2.0 grpcio-1.44.0 keras-preprocessing-1.1.2 libclang-14.0.1 markdown-3.3.6 oauthlib-3.2.0 opt-einsum-3.3.0 protobuf-3.20.1 pyasn1-0.4.8 pyasn1-modules-0.2.8 requests-oauthlib-1.3.1 rsa-4.8 tensorboard-2.8.0 tensorboard-data-server-0.6.1 tensorboard-plugin-wit-1.8.1 tensorflow-2.8.0 tensorflow-io-gcs-filesystem-0.25.0 termcolor-1.1.0 tf-estimator-nightly-2.8.0.dev2021122109\n",
            "Note: you may need to restart the kernel to use updated packages.\n"
          ]
        }
      ],
      "source": [
        "pip install tensorflow"
      ]
    },
    {
      "cell_type": "code",
      "execution_count": null,
      "metadata": {
        "id": "NMX1k_AW8zIV"
      },
      "outputs": [],
      "source": [
        "from tensorflow.keras.utils import to_categorical"
      ]
    },
    {
      "cell_type": "code",
      "execution_count": null,
      "metadata": {
        "id": "I03dQO1A8zIW"
      },
      "outputs": [],
      "source": [
        "%run preprocess.py"
      ]
    },
    {
      "cell_type": "code",
      "execution_count": null,
      "metadata": {
        "id": "LFnvmqPg8zIX",
        "outputId": "4c5c02a8-75f9-4425-8be4-7ecfa3e8a577"
      },
      "outputs": [
        {
          "name": "stdout",
          "output_type": "stream",
          "text": [
            "Collecting wandb\n",
            "  Downloading wandb-0.12.15-py2.py3-none-any.whl (1.8 MB)\n",
            "Collecting GitPython>=1.0.0\n",
            "  Downloading GitPython-3.1.27-py3-none-any.whl (181 kB)\n",
            "Collecting sentry-sdk>=1.0.0\n",
            "  Downloading sentry_sdk-1.5.10-py2.py3-none-any.whl (144 kB)\n",
            "Collecting setproctitle\n",
            "  Downloading setproctitle-1.2.3-cp39-cp39-win_amd64.whl (10 kB)\n",
            "Requirement already satisfied: psutil>=5.0.0 in c:\\users\\ad\\anaconda3\\lib\\site-packages (from wandb) (5.8.0)\n",
            "Requirement already satisfied: six>=1.13.0 in c:\\users\\ad\\anaconda3\\lib\\site-packages (from wandb) (1.16.0)\n",
            "Collecting promise<3,>=2.0\n",
            "  Downloading promise-2.3.tar.gz (19 kB)\n",
            "Requirement already satisfied: Click!=8.0.0,>=7.0 in c:\\users\\ad\\anaconda3\\lib\\site-packages (from wandb) (8.0.3)\n",
            "Requirement already satisfied: protobuf>=3.12.0 in c:\\users\\ad\\anaconda3\\lib\\site-packages (from wandb) (3.20.1)\n",
            "Requirement already satisfied: requests<3,>=2.0.0 in c:\\users\\ad\\anaconda3\\lib\\site-packages (from wandb) (2.26.0)\n",
            "Collecting pathtools\n",
            "  Downloading pathtools-0.1.2.tar.gz (11 kB)\n",
            "Requirement already satisfied: PyYAML in c:\\users\\ad\\anaconda3\\lib\\site-packages (from wandb) (6.0)\n",
            "Requirement already satisfied: python-dateutil>=2.6.1 in c:\\users\\ad\\anaconda3\\lib\\site-packages (from wandb) (2.8.2)\n",
            "Collecting shortuuid>=0.5.0\n",
            "  Downloading shortuuid-1.0.8-py3-none-any.whl (9.5 kB)\n",
            "Collecting docker-pycreds>=0.4.0\n",
            "  Downloading docker_pycreds-0.4.0-py2.py3-none-any.whl (9.0 kB)\n",
            "Requirement already satisfied: colorama in c:\\users\\ad\\anaconda3\\lib\\site-packages (from Click!=8.0.0,>=7.0->wandb) (0.4.4)\n",
            "Collecting gitdb<5,>=4.0.1\n",
            "  Downloading gitdb-4.0.9-py3-none-any.whl (63 kB)\n",
            "Collecting smmap<6,>=3.0.1\n",
            "  Downloading smmap-5.0.0-py3-none-any.whl (24 kB)\n",
            "Requirement already satisfied: certifi>=2017.4.17 in c:\\users\\ad\\anaconda3\\lib\\site-packages (from requests<3,>=2.0.0->wandb) (2021.10.8)\n",
            "Requirement already satisfied: idna<4,>=2.5 in c:\\users\\ad\\anaconda3\\lib\\site-packages (from requests<3,>=2.0.0->wandb) (3.2)\n",
            "Requirement already satisfied: urllib3<1.27,>=1.21.1 in c:\\users\\ad\\anaconda3\\lib\\site-packages (from requests<3,>=2.0.0->wandb) (1.26.7)\n",
            "Requirement already satisfied: charset-normalizer~=2.0.0 in c:\\users\\ad\\anaconda3\\lib\\site-packages (from requests<3,>=2.0.0->wandb) (2.0.4)\n",
            "Building wheels for collected packages: promise, pathtools\n",
            "  Building wheel for promise (setup.py): started\n",
            "  Building wheel for promise (setup.py): finished with status 'done'\n",
            "  Created wheel for promise: filename=promise-2.3-py3-none-any.whl size=21502 sha256=b7146af6f3fe68efd4c8a40c005d1ba8d27702355aff3385bef9eec465072291\n",
            "  Stored in directory: c:\\users\\ad\\appdata\\local\\pip\\cache\\wheels\\e1\\e8\\83\\ddea66100678d139b14bc87692ece57c6a2a937956d2532608\n",
            "  Building wheel for pathtools (setup.py): started\n",
            "  Building wheel for pathtools (setup.py): finished with status 'done'\n",
            "  Created wheel for pathtools: filename=pathtools-0.1.2-py3-none-any.whl size=8807 sha256=d1527c28e9f1d86efc20b16e506ce24a74dbf43bf2bd419a7acdf1b753a34c66\n",
            "  Stored in directory: c:\\users\\ad\\appdata\\local\\pip\\cache\\wheels\\b7\\0a\\67\\ada2a22079218c75a88361c0782855cc72aebc4d18d0289d05\n",
            "Successfully built promise pathtools\n",
            "Installing collected packages: smmap, gitdb, shortuuid, setproctitle, sentry-sdk, promise, pathtools, GitPython, docker-pycreds, wandb\n",
            "Successfully installed GitPython-3.1.27 docker-pycreds-0.4.0 gitdb-4.0.9 pathtools-0.1.2 promise-2.3 sentry-sdk-1.5.10 setproctitle-1.2.3 shortuuid-1.0.8 smmap-5.0.0 wandb-0.12.15\n",
            "Note: you may need to restart the kernel to use updated packages.\n"
          ]
        }
      ],
      "source": [
        "pip install wandb"
      ]
    },
    {
      "cell_type": "code",
      "execution_count": null,
      "metadata": {
        "id": "CHYIdojZ8zIY"
      },
      "outputs": [],
      "source": [
        "from preprocess import *\n",
        "import keras\n",
        "from keras.models import Sequential\n",
        "from keras.layers import Dense, Dropout, Flatten, Conv2D, MaxPooling2D, LSTM\n",
        "import wandb\n",
        "from wandb.keras import WandbCallback\n",
        "import matplotlib.pyplot as plt\n"
      ]
    },
    {
      "cell_type": "code",
      "execution_count": null,
      "metadata": {
        "id": "_UUd27ji8zIa"
      },
      "outputs": [],
      "source": [
        "wandb.init()\n",
        "config = wandb.config\n",
        "\n",
        "config.max_len = 11\n",
        "config.buckets = 20\n",
        "\n",
        "# Save data to array file first\n",
        "save_data_to_array(max_len=config.max_len, n_mfcc=config.buckets)\n",
        "\n",
        "labels=[\"English\", \"hindi\", \"chineese\",\"portuguese\",\"german\",\"spanish\"]"
      ]
    },
    {
      "cell_type": "code",
      "execution_count": null,
      "metadata": {
        "id": "R_itw5aa8zIb"
      },
      "outputs": [],
      "source": [
        "# # Loading train set and test set\n",
        "X_train, X_test, y_train, y_test = get_train_test()"
      ]
    },
    {
      "cell_type": "code",
      "execution_count": null,
      "metadata": {
        "id": "hTIda4Q58zId"
      },
      "outputs": [],
      "source": [
        "# # Feature dimension\n",
        "channels = 1\n",
        "config.epochs = 50\n",
        "config.batch_size = 100\n",
        "\n",
        "num_classes = 3\n",
        "\n",
        "X_train = X_train.reshape(X_train.shape[0], config.buckets, config.max_len, channels)\n",
        "X_test = X_test.reshape(X_test.shape[0], config.buckets, config.max_len, channels)"
      ]
    },
    {
      "cell_type": "code",
      "execution_count": null,
      "metadata": {
        "id": "J5TKWCP28zIe",
        "outputId": "f3ec0e42-0c51-4939-9ef3-795a4658b35c"
      },
      "outputs": [
        {
          "name": "stdout",
          "output_type": "stream",
          "text": [
            "0.0\n"
          ]
        },
        {
          "data": {
            "image/png": "[encoded data removed]",
            "text/plain": [
              "<Figure size 432x288 with 1 Axes>"
            ]
          },
          "metadata": {
            "needs_background": "light"
          },
          "output_type": "display_data"
        }
      ],
      "source": [
        "plt.imshow(X_train[100, :, :, 0])\n",
        "print(y_train[100])"
      ]
    },
    {
      "cell_type": "code",
      "execution_count": null,
      "metadata": {
        "id": "BaCsXRQq8zIf"
      },
      "outputs": [],
      "source": [
        "y_train_hot = to_categorical(y_train)\n",
        "y_test_hot = to_categorical(y_test)"
      ]
    },
    {
      "cell_type": "code",
      "execution_count": null,
      "metadata": {
        "id": "AvfugPaI8zIg"
      },
      "outputs": [],
      "source": [
        "\n",
        "X_train = X_train.reshape(X_train.shape[0], config.buckets, config.max_len)\n",
        "X_test = X_test.reshape(X_test.shape[0], config.buckets, config.max_len)\n",
        "\n",
        "model = Sequential()\n",
        "model.add(Flatten(input_shape=(config.buckets, config.max_len)))\n",
        "model.add(Dense(num_classes, activation='softmax'))\n",
        "model.compile(loss=\"categorical_crossentropy\",\n",
        "                  optimizer=\"adam\",\n",
        "                  metrics=['accuracy'])"
      ]
    },
    {
      "cell_type": "code",
      "execution_count": null,
      "metadata": {
        "id": "S_TSK2Ra8zIh",
        "outputId": "0bb5eab3-7f08-4fb2-c82b-224b7d5d58ec",
        "colab": {
          "referenced_widgets": [
            ""
          ]
        }
      },
      "outputs": [
        {
          "data": {
            "text/html": [
              "Finishing last run (ID:ip7fzt91) before initializing another..."
            ],
            "text/plain": [
              "<IPython.core.display.HTML object>"
            ]
          },
          "metadata": {},
          "output_type": "display_data"
        },
        {
          "data": {
            "text/html": [
              "Waiting for W&B process to finish... <strong style=\"color:green\">(success).</strong>"
            ],
            "text/plain": [
              "<IPython.core.display.HTML object>"
            ]
          },
          "metadata": {},
          "output_type": "display_data"
        },
        {
          "data": {
            "application/vnd.jupyter.widget-view+json": {
              "model_id": "",
              "version_major": 2,
              "version_minor": 0
            },
            "text/plain": [
              "VBox(children=(Label(value='0.001 MB of 0.001 MB uploaded (0.000 MB deduped)\\r'), FloatProgress(value=1.0, max…"
            ]
          },
          "metadata": {},
          "output_type": "display_data"
        },
        {
          "data": {
            "text/html": [
              "Synced <strong style=\"color:#cdcd00\">youthful-rain-1</strong>: <a href=\"https://wandb.ai/qeww/uncategorized/runs/ip7fzt91\" target=\"_blank\">https://wandb.ai/qeww/uncategorized/runs/ip7fzt91</a><br/>Synced 6 W&B file(s), 0 media file(s), 0 artifact file(s) and 0 other file(s)"
            ],
            "text/plain": [
              "<IPython.core.display.HTML object>"
            ]
          },
          "metadata": {},
          "output_type": "display_data"
        },
        {
          "data": {
            "text/html": [
              "Find logs at: <code>.\\wandb\\run-20220502_044223-ip7fzt91\\logs</code>"
            ],
            "text/plain": [
              "<IPython.core.display.HTML object>"
            ]
          },
          "metadata": {},
          "output_type": "display_data"
        },
        {
          "data": {
            "text/html": [
              "Successfully finished last run (ID:ip7fzt91). Initializing new run:<br/>"
            ],
            "text/plain": [
              "<IPython.core.display.HTML object>"
            ]
          },
          "metadata": {},
          "output_type": "display_data"
        },
        {
          "data": {
            "text/html": [
              "Tracking run with wandb version 0.12.15"
            ],
            "text/plain": [
              "<IPython.core.display.HTML object>"
            ]
          },
          "metadata": {},
          "output_type": "display_data"
        },
        {
          "data": {
            "text/html": [
              "Run data is saved locally in <code>C:\\Users\\ad\\Downloads\\ml-class-master\\ml-class-master\\videos\\cnn-audio\\wandb\\run-20220502_044538-1254gk73</code>"
            ],
            "text/plain": [
              "<IPython.core.display.HTML object>"
            ]
          },
          "metadata": {},
          "output_type": "display_data"
        },
        {
          "data": {
            "text/html": [
              "Syncing run <strong><a href=\"https://wandb.ai/qeww/uncategorized/runs/1254gk73\" target=\"_blank\">noble-snowball-2</a></strong> to <a href=\"https://wandb.ai/qeww/uncategorized\" target=\"_blank\">Weights & Biases</a> (<a href=\"https://wandb.me/run\" target=\"_blank\">docs</a>)<br/>"
            ],
            "text/plain": [
              "<IPython.core.display.HTML object>"
            ]
          },
          "metadata": {},
          "output_type": "display_data"
        },
        {
          "name": "stderr",
          "output_type": "stream",
          "text": [
            "\u001b[34m\u001b[1mwandb\u001b[0m: \u001b[33mWARNING\u001b[0m The data_type argument of wandb.keras.WandbCallback is deprecated and will be removed in a future release. Please use input_type instead.\n",
            "\u001b[34m\u001b[1mwandb\u001b[0m: \u001b[33mWARNING\u001b[0m Setting input_type = data_type.\n"
          ]
        },
        {
          "name": "stdout",
          "output_type": "stream",
          "text": [
            "Epoch 1/50\n",
            " 1/98 [..............................] - ETA: 1:04 - loss: 129.7779 - accuracy: 0.0938WARNING:tensorflow:Callback method `on_train_batch_end` is slow compared to the batch time (batch time: 0.0010s vs `on_train_batch_end` time: 0.0026s). Check your callbacks.\n",
            "98/98 [==============================] - 3s 25ms/step - loss: 29.4447 - accuracy: 0.4473 - val_loss: 9.6036 - val_accuracy: 0.6031 - _timestamp: 1651491969.0000 - _runtime: 21.0000\n",
            "Epoch 2/50\n",
            "98/98 [==============================] - 1s 12ms/step - loss: 6.9465 - accuracy: 0.6414 - val_loss: 5.1536 - val_accuracy: 0.6830 - _timestamp: 1651491970.0000 - _runtime: 22.0000\n",
            "Epoch 3/50\n",
            "98/98 [==============================] - 1s 12ms/step - loss: 4.3316 - accuracy: 0.7208 - val_loss: 3.7451 - val_accuracy: 0.7298 - _timestamp: 1651491972.0000 - _runtime: 24.0000\n",
            "Epoch 4/50\n",
            "98/98 [==============================] - 1s 12ms/step - loss: 3.4688 - accuracy: 0.7510 - val_loss: 3.4186 - val_accuracy: 0.7360 - _timestamp: 1651491973.0000 - _runtime: 25.0000\n",
            "Epoch 5/50\n",
            "98/98 [==============================] - 1s 14ms/step - loss: 2.9743 - accuracy: 0.7645 - val_loss: 3.0321 - val_accuracy: 0.7514 - _timestamp: 1651491974.0000 - _runtime: 26.0000\n",
            "Epoch 6/50\n",
            "98/98 [==============================] - 1s 15ms/step - loss: 2.6364 - accuracy: 0.7722 - val_loss: 2.9249 - val_accuracy: 0.7404 - _timestamp: 1651491976.0000 - _runtime: 28.0000\n",
            "Epoch 7/50\n",
            "98/98 [==============================] - 2s 17ms/step - loss: 2.4142 - accuracy: 0.7683 - val_loss: 2.8334 - val_accuracy: 0.7370 - _timestamp: 1651491977.0000 - _runtime: 29.0000\n",
            "Epoch 8/50\n",
            "98/98 [==============================] - 1s 14ms/step - loss: 2.2799 - accuracy: 0.7741 - val_loss: 2.4534 - val_accuracy: 0.7606 - _timestamp: 1651491979.0000 - _runtime: 31.0000\n",
            "Epoch 9/50\n",
            "98/98 [==============================] - 1s 13ms/step - loss: 2.0727 - accuracy: 0.7873 - val_loss: 2.3043 - val_accuracy: 0.7592 - _timestamp: 1651491980.0000 - _runtime: 32.0000\n",
            "Epoch 10/50\n",
            "98/98 [==============================] - 1s 10ms/step - loss: 1.9571 - accuracy: 0.7812 - val_loss: 2.3492 - val_accuracy: 0.7534 - _timestamp: 1651491981.0000 - _runtime: 33.0000\n",
            "Epoch 11/50\n",
            "98/98 [==============================] - 1s 11ms/step - loss: 1.9415 - accuracy: 0.7763 - val_loss: 2.1079 - val_accuracy: 0.7543 - _timestamp: 1651491982.0000 - _runtime: 34.0000\n",
            "Epoch 12/50\n",
            "98/98 [==============================] - 1s 12ms/step - loss: 1.8335 - accuracy: 0.7744 - val_loss: 2.0159 - val_accuracy: 0.7582 - _timestamp: 1651491983.0000 - _runtime: 35.0000\n",
            "Epoch 13/50\n",
            "98/98 [==============================] - 1s 11ms/step - loss: 1.6110 - accuracy: 0.7950 - val_loss: 2.0303 - val_accuracy: 0.7442 - _timestamp: 1651491984.0000 - _runtime: 36.0000\n",
            "Epoch 14/50\n",
            "98/98 [==============================] - 1s 13ms/step - loss: 1.5561 - accuracy: 0.7876 - val_loss: 1.9754 - val_accuracy: 0.7514 - _timestamp: 1651491986.0000 - _runtime: 38.0000\n",
            "Epoch 15/50\n",
            "98/98 [==============================] - 1s 14ms/step - loss: 1.4473 - accuracy: 0.7960 - val_loss: 1.7901 - val_accuracy: 0.7486 - _timestamp: 1651491987.0000 - _runtime: 39.0000\n",
            "Epoch 16/50\n",
            "98/98 [==============================] - 1s 11ms/step - loss: 1.4080 - accuracy: 0.7911 - val_loss: 1.7632 - val_accuracy: 0.7558 - _timestamp: 1651491988.0000 - _runtime: 40.0000\n",
            "Epoch 17/50\n",
            "98/98 [==============================] - 1s 10ms/step - loss: 1.4227 - accuracy: 0.7760 - val_loss: 1.8450 - val_accuracy: 0.7457 - _timestamp: 1651491989.0000 - _runtime: 41.0000\n",
            "Epoch 18/50\n",
            "98/98 [==============================] - 1s 11ms/step - loss: 1.2676 - accuracy: 0.7976 - val_loss: 1.6770 - val_accuracy: 0.7548 - _timestamp: 1651491990.0000 - _runtime: 42.0000\n",
            "Epoch 19/50\n",
            "98/98 [==============================] - 2s 18ms/step - loss: 1.2670 - accuracy: 0.7821 - val_loss: 1.4573 - val_accuracy: 0.7697 - _timestamp: 1651491992.0000 - _runtime: 44.0000\n",
            "Epoch 20/50\n",
            "98/98 [==============================] - 2s 20ms/step - loss: 1.2863 - accuracy: 0.7886 - val_loss: 1.4564 - val_accuracy: 0.7596 - _timestamp: 1651491994.0000 - _runtime: 46.0000\n",
            "Epoch 21/50\n",
            "98/98 [==============================] - 1s 14ms/step - loss: 1.1517 - accuracy: 0.7831 - val_loss: 1.5020 - val_accuracy: 0.7592 - _timestamp: 1651491995.0000 - _runtime: 47.0000\n",
            "Epoch 22/50\n",
            "98/98 [==============================] - 2s 21ms/step - loss: 1.0957 - accuracy: 0.7895 - val_loss: 1.5342 - val_accuracy: 0.7553 - _timestamp: 1651491997.0000 - _runtime: 49.0000\n",
            "Epoch 23/50\n",
            "98/98 [==============================] - 2s 21ms/step - loss: 1.0908 - accuracy: 0.7985 - val_loss: 1.6225 - val_accuracy: 0.7365 - _timestamp: 1651491999.0000 - _runtime: 51.0000\n",
            "Epoch 24/50\n",
            "98/98 [==============================] - 2s 22ms/step - loss: 1.0765 - accuracy: 0.7924 - val_loss: 1.6987 - val_accuracy: 0.7278 - _timestamp: 1651492002.0000 - _runtime: 54.0000\n",
            "Epoch 25/50\n",
            "98/98 [==============================] - 3s 31ms/step - loss: 1.0671 - accuracy: 0.7895 - val_loss: 1.3200 - val_accuracy: 0.7519 - _timestamp: 1651492005.0000 - _runtime: 57.0000\n",
            "Epoch 26/50\n",
            "98/98 [==============================] - 2s 20ms/step - loss: 1.0359 - accuracy: 0.7937 - val_loss: 1.9807 - val_accuracy: 0.6965 - _timestamp: 1651492007.0000 - _runtime: 59.0000\n",
            "Epoch 27/50\n",
            "98/98 [==============================] - 3s 31ms/step - loss: 1.1905 - accuracy: 0.7812 - val_loss: 1.3657 - val_accuracy: 0.7471 - _timestamp: 1651492010.0000 - _runtime: 62.0000\n",
            "Epoch 28/50\n",
            "98/98 [==============================] - 2s 24ms/step - loss: 0.9958 - accuracy: 0.8014 - val_loss: 1.2528 - val_accuracy: 0.7616 - _timestamp: 1651492012.0000 - _runtime: 64.0000\n",
            "Epoch 29/50\n",
            "98/98 [==============================] - 3s 31ms/step - loss: 0.9891 - accuracy: 0.7943 - val_loss: 1.4255 - val_accuracy: 0.7433 - _timestamp: 1651492015.0000 - _runtime: 67.0000\n",
            "Epoch 30/50\n",
            "98/98 [==============================] - 2s 22ms/step - loss: 1.0168 - accuracy: 0.7905 - val_loss: 1.1228 - val_accuracy: 0.7693 - _timestamp: 1651492017.0000 - _runtime: 69.0000\n",
            "Epoch 31/50\n",
            "98/98 [==============================] - 2s 19ms/step - loss: 0.9246 - accuracy: 0.8011 - val_loss: 1.3019 - val_accuracy: 0.7534 - _timestamp: 1651492019.0000 - _runtime: 71.0000\n",
            "Epoch 32/50\n",
            "98/98 [==============================] - 2s 22ms/step - loss: 0.9147 - accuracy: 0.7921 - val_loss: 1.2062 - val_accuracy: 0.7510 - _timestamp: 1651492021.0000 - _runtime: 73.0000\n",
            "Epoch 33/50\n",
            "98/98 [==============================] - 2s 23ms/step - loss: 0.8560 - accuracy: 0.7947 - val_loss: 1.2771 - val_accuracy: 0.7331 - _timestamp: 1651492024.0000 - _runtime: 76.0000\n",
            "Epoch 34/50\n",
            "98/98 [==============================] - 2s 20ms/step - loss: 0.9213 - accuracy: 0.7873 - val_loss: 1.3592 - val_accuracy: 0.7331 - _timestamp: 1651492025.0000 - _runtime: 77.0000\n",
            "Epoch 35/50\n",
            "98/98 [==============================] - 2s 19ms/step - loss: 0.8433 - accuracy: 0.8004 - val_loss: 1.1929 - val_accuracy: 0.7437 - _timestamp: 1651492027.0000 - _runtime: 79.0000\n",
            "Epoch 36/50\n",
            "98/98 [==============================] - 2s 19ms/step - loss: 0.7571 - accuracy: 0.8066 - val_loss: 1.1041 - val_accuracy: 0.7433 - _timestamp: 1651492029.0000 - _runtime: 81.0000\n",
            "Epoch 37/50\n",
            "98/98 [==============================] - 2s 23ms/step - loss: 0.8103 - accuracy: 0.7979 - val_loss: 1.0600 - val_accuracy: 0.7630 - _timestamp: 1651492031.0000 - _runtime: 83.0000\n",
            "Epoch 38/50\n",
            "98/98 [==============================] - 2s 16ms/step - loss: 0.8121 - accuracy: 0.7998 - val_loss: 1.0918 - val_accuracy: 0.7558 - _timestamp: 1651492033.0000 - _runtime: 85.0000\n",
            "Epoch 39/50\n",
            "98/98 [==============================] - 2s 16ms/step - loss: 0.7736 - accuracy: 0.7921 - val_loss: 1.0594 - val_accuracy: 0.7457 - _timestamp: 1651492034.0000 - _runtime: 86.0000\n",
            "Epoch 40/50\n",
            "98/98 [==============================] - 2s 16ms/step - loss: 0.8319 - accuracy: 0.7940 - val_loss: 1.1425 - val_accuracy: 0.7534 - _timestamp: 1651492036.0000 - _runtime: 88.0000\n",
            "Epoch 41/50\n",
            "98/98 [==============================] - 2s 16ms/step - loss: 0.8105 - accuracy: 0.8053 - val_loss: 1.0207 - val_accuracy: 0.7635 - _timestamp: 1651492038.0000 - _runtime: 90.0000\n",
            "Epoch 42/50\n",
            "98/98 [==============================] - 1s 14ms/step - loss: 0.7502 - accuracy: 0.8056 - val_loss: 1.0789 - val_accuracy: 0.7471 - _timestamp: 1651492039.0000 - _runtime: 91.0000\n",
            "Epoch 43/50\n",
            "98/98 [==============================] - 2s 18ms/step - loss: 0.7231 - accuracy: 0.7985 - val_loss: 0.9577 - val_accuracy: 0.7563 - _timestamp: 1651492041.0000 - _runtime: 93.0000\n",
            "Epoch 44/50\n",
            "98/98 [==============================] - 2s 17ms/step - loss: 0.8803 - accuracy: 0.7818 - val_loss: 1.8799 - val_accuracy: 0.6797 - _timestamp: 1651492042.0000 - _runtime: 94.0000\n",
            "Epoch 45/50\n",
            "98/98 [==============================] - 2s 19ms/step - loss: 0.8080 - accuracy: 0.7934 - val_loss: 0.9263 - val_accuracy: 0.7702 - _timestamp: 1651492044.0000 - _runtime: 96.0000\n",
            "Epoch 46/50\n",
            "98/98 [==============================] - 2s 16ms/step - loss: 0.7429 - accuracy: 0.8004 - val_loss: 0.9133 - val_accuracy: 0.7678 - _timestamp: 1651492046.0000 - _runtime: 98.0000\n",
            "Epoch 47/50\n",
            "98/98 [==============================] - 2s 16ms/step - loss: 0.7383 - accuracy: 0.8008 - val_loss: 0.9906 - val_accuracy: 0.7534 - _timestamp: 1651492047.0000 - _runtime: 99.0000\n",
            "Epoch 48/50\n",
            "98/98 [==============================] - 1s 15ms/step - loss: 0.8422 - accuracy: 0.7892 - val_loss: 0.9695 - val_accuracy: 0.7645 - _timestamp: 1651492049.0000 - _runtime: 101.0000\n",
            "Epoch 49/50\n",
            "98/98 [==============================] - 2s 16ms/step - loss: 0.7279 - accuracy: 0.8107 - val_loss: 0.9059 - val_accuracy: 0.7784 - _timestamp: 1651492050.0000 - _runtime: 102.0000\n",
            "Epoch 50/50\n",
            "98/98 [==============================] - 1s 15ms/step - loss: 0.6600 - accuracy: 0.8101 - val_loss: 1.1030 - val_accuracy: 0.7389 - _timestamp: 1651492052.0000 - _runtime: 104.0000\n"
          ]
        },
        {
          "data": {
            "text/plain": [
              "<keras.callbacks.History at 0x1d8bd742940>"
            ]
          },
          "execution_count": 35,
          "metadata": {},
          "output_type": "execute_result"
        }
      ],
      "source": [
        "wandb.init()\n",
        "model.fit(X_train, y_train_hot, epochs=config.epochs, validation_data=(X_test, y_test_hot), callbacks=[WandbCallback(data_type=\"image\", labels=labels)])"
      ]
    },
    {
      "cell_type": "code",
      "source": [
        ""
      ],
      "metadata": {
        "id": "ro_k4Eo7LHjj"
      },
      "execution_count": null,
      "outputs": []
    },
    {
      "cell_type": "code",
      "execution_count": null,
      "metadata": {
        "id": "YpdOJgJP8zIj"
      },
      "outputs": [],
      "source": [
        "\n",
        "# build model\n",
        "model = Sequential()\n",
        "#model.add(LSTM(16, input_shape=(config.buckets, config.max_len, channels), activation=\"sigmoid\"))\n",
        "model.add(Dense(1, activation='sigmoid'))\n",
        "model.add(Dense(num_classes, activation='softmax'))"
      ]
    },
    {
      "cell_type": "code",
      "execution_count": null,
      "metadata": {
        "id": "9iI288pX8zIj"
      },
      "outputs": [],
      "source": [
        "model.compile(loss=\"categorical_crossentropy\",\n",
        "                  optimizer=\"adam\",\n",
        "                  metrics=['accuracy'])"
      ]
    },
    {
      "cell_type": "code",
      "execution_count": null,
      "metadata": {
        "id": "5_rcAmPQ8zIk"
      },
      "outputs": [],
      "source": [
        "wandb.init()\n",
        "model.fit(X_train, y_train_hot, epochs=config.epochs, validation_data=(X_test, y_test_hot), callbacks=[WandbCallback(data_type=\"image\", labels=labels)])"
      ]
    },
    {
      "cell_type": "markdown",
      "metadata": {
        "id": "Uvtslk9S8zIl"
      },
      "source": [
        "![audio.png](attachment:c2924c7d-2f3d-40f2-8e2d-3c7e8b6d0046.png)\n"
      ]
    },
    {
      "cell_type": "code",
      "execution_count": null,
      "metadata": {
        "id": "IxDFtlTM8zIn"
      },
      "outputs": [],
      "source": [
        ""
      ]
    }
  ],
  "metadata": {
    "kernelspec": {
      "display_name": "Python 3 (ipykernel)",
      "language": "python",
      "name": "python3"
    },
    "language_info": {
      "codemirror_mode": {
        "name": "ipython",
        "version": 3
      },
      "file_extension": ".py",
      "mimetype": "text/x-python",
      "name": "python",
      "nbconvert_exporter": "python",
      "pygments_lexer": "ipython3",
      "version": "3.9.7"
    },
    "colab": {
      "name": "audio.ipynb",
      "provenance": [],
      "include_colab_link": true
    }
  },
  "nbformat": 4,
  "nbformat_minor": 0
}